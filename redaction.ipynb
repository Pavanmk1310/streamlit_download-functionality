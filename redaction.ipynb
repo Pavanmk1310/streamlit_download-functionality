{
  "nbformat": 4,
  "nbformat_minor": 0,
  "metadata": {
    "colab": {
      "provenance": [],
      "authorship_tag": "ABX9TyMa/XmYllLXmhZ/jZvHV4BU",
      "include_colab_link": true
    },
    "kernelspec": {
      "name": "python3",
      "display_name": "Python 3"
    },
    "language_info": {
      "name": "python"
    }
  },
  "cells": [
    {
      "cell_type": "markdown",
      "metadata": {
        "id": "view-in-github",
        "colab_type": "text"
      },
      "source": [
        "<a href=\"https://colab.research.google.com/github/Pavanmk1310/streamlit_download-functionality/blob/main/redaction.ipynb\" target=\"_parent\"><img src=\"https://colab.research.google.com/assets/colab-badge.svg\" alt=\"Open In Colab\"/></a>"
      ]
    },
    {
      "cell_type": "code",
      "execution_count": null,
      "metadata": {
        "colab": {
          "base_uri": "https://localhost:8080/"
        },
        "id": "U_Cq62JFQdKd",
        "outputId": "f0bd5a0d-1f65-40b5-dfc7-a8d47c2af1fe"
      },
      "outputs": [
        {
          "output_type": "stream",
          "name": "stdout",
          "text": [
            "Reading package lists... Done\n",
            "Building dependency tree... Done\n",
            "Reading state information... Done\n",
            "The following additional packages will be installed:\n",
            "  tesseract-ocr-eng tesseract-ocr-osd\n",
            "The following NEW packages will be installed:\n",
            "  tesseract-ocr tesseract-ocr-eng tesseract-ocr-osd\n",
            "0 upgraded, 3 newly installed, 0 to remove and 45 not upgraded.\n",
            "Need to get 4,816 kB of archives.\n",
            "After this operation, 15.6 MB of additional disk space will be used.\n",
            "Get:1 http://archive.ubuntu.com/ubuntu jammy/universe amd64 tesseract-ocr-eng all 1:4.00~git30-7274cfa-1.1 [1,591 kB]\n",
            "Get:2 http://archive.ubuntu.com/ubuntu jammy/universe amd64 tesseract-ocr-osd all 1:4.00~git30-7274cfa-1.1 [2,990 kB]\n",
            "Get:3 http://archive.ubuntu.com/ubuntu jammy/universe amd64 tesseract-ocr amd64 4.1.1-2.1build1 [236 kB]\n",
            "Fetched 4,816 kB in 0s (17.8 MB/s)\n",
            "Selecting previously unselected package tesseract-ocr-eng.\n",
            "(Reading database ... 123588 files and directories currently installed.)\n",
            "Preparing to unpack .../tesseract-ocr-eng_1%3a4.00~git30-7274cfa-1.1_all.deb ...\n",
            "Unpacking tesseract-ocr-eng (1:4.00~git30-7274cfa-1.1) ...\n",
            "Selecting previously unselected package tesseract-ocr-osd.\n",
            "Preparing to unpack .../tesseract-ocr-osd_1%3a4.00~git30-7274cfa-1.1_all.deb ...\n",
            "Unpacking tesseract-ocr-osd (1:4.00~git30-7274cfa-1.1) ...\n",
            "Selecting previously unselected package tesseract-ocr.\n",
            "Preparing to unpack .../tesseract-ocr_4.1.1-2.1build1_amd64.deb ...\n",
            "Unpacking tesseract-ocr (4.1.1-2.1build1) ...\n",
            "Setting up tesseract-ocr-eng (1:4.00~git30-7274cfa-1.1) ...\n",
            "Setting up tesseract-ocr-osd (1:4.00~git30-7274cfa-1.1) ...\n",
            "Setting up tesseract-ocr (4.1.1-2.1build1) ...\n",
            "Processing triggers for man-db (2.10.2-1) ...\n",
            "Reading package lists... Done\n",
            "Building dependency tree... Done\n",
            "Reading state information... Done\n",
            "The following additional packages will be installed:\n",
            "  libarchive-dev libleptonica-dev\n",
            "The following NEW packages will be installed:\n",
            "  libarchive-dev libleptonica-dev libtesseract-dev\n",
            "0 upgraded, 3 newly installed, 0 to remove and 45 not upgraded.\n",
            "Need to get 3,744 kB of archives.\n",
            "After this operation, 16.0 MB of additional disk space will be used.\n",
            "Get:1 http://archive.ubuntu.com/ubuntu jammy-updates/main amd64 libarchive-dev amd64 3.6.0-1ubuntu1.1 [582 kB]\n",
            "Get:2 http://archive.ubuntu.com/ubuntu jammy/universe amd64 libleptonica-dev amd64 1.82.0-3build1 [1,562 kB]\n",
            "Get:3 http://archive.ubuntu.com/ubuntu jammy/universe amd64 libtesseract-dev amd64 4.1.1-2.1build1 [1,600 kB]\n",
            "Fetched 3,744 kB in 0s (20.2 MB/s)\n",
            "Selecting previously unselected package libarchive-dev:amd64.\n",
            "(Reading database ... 123635 files and directories currently installed.)\n",
            "Preparing to unpack .../libarchive-dev_3.6.0-1ubuntu1.1_amd64.deb ...\n",
            "Unpacking libarchive-dev:amd64 (3.6.0-1ubuntu1.1) ...\n",
            "Selecting previously unselected package libleptonica-dev.\n",
            "Preparing to unpack .../libleptonica-dev_1.82.0-3build1_amd64.deb ...\n",
            "Unpacking libleptonica-dev (1.82.0-3build1) ...\n",
            "Selecting previously unselected package libtesseract-dev:amd64.\n",
            "Preparing to unpack .../libtesseract-dev_4.1.1-2.1build1_amd64.deb ...\n",
            "Unpacking libtesseract-dev:amd64 (4.1.1-2.1build1) ...\n",
            "Setting up libleptonica-dev (1.82.0-3build1) ...\n",
            "Setting up libarchive-dev:amd64 (3.6.0-1ubuntu1.1) ...\n",
            "Setting up libtesseract-dev:amd64 (4.1.1-2.1build1) ...\n",
            "Processing triggers for man-db (2.10.2-1) ...\n"
          ]
        }
      ],
      "source": [
        "! apt install tesseract-ocr\n",
        "! apt install libtesseract-dev"
      ]
    },
    {
      "cell_type": "code",
      "source": [
        "!pip install tesseract"
      ],
      "metadata": {
        "colab": {
          "base_uri": "https://localhost:8080/"
        },
        "id": "cfSOa5uiQk0g",
        "outputId": "9b73ec44-2697-4ffc-da94-f4ba9a33c08c"
      },
      "execution_count": null,
      "outputs": [
        {
          "output_type": "stream",
          "name": "stdout",
          "text": [
            "Collecting tesseract\n",
            "  Downloading tesseract-0.1.3.tar.gz (45.6 MB)\n",
            "\u001b[2K     \u001b[90m━━━━━━━━━━━━━━━━━━━━━━━━━━━━━━━━━━━━━━━━\u001b[0m \u001b[32m45.6/45.6 MB\u001b[0m \u001b[31m16.7 MB/s\u001b[0m eta \u001b[36m0:00:00\u001b[0m\n",
            "\u001b[?25h  Preparing metadata (setup.py) ... \u001b[?25l\u001b[?25hdone\n",
            "Building wheels for collected packages: tesseract\n",
            "  Building wheel for tesseract (setup.py) ... \u001b[?25l\u001b[?25hdone\n",
            "  Created wheel for tesseract: filename=tesseract-0.1.3-py3-none-any.whl size=45562552 sha256=7115abad141df6eb26b9e1ccf0b1a0277b409e393f7db917dec5ab77880128d5\n",
            "  Stored in directory: /root/.cache/pip/wheels/71/c9/aa/698c579693e83fdda9ad6d6f0d8f61ed986e27925ef576f109\n",
            "Successfully built tesseract\n",
            "Installing collected packages: tesseract\n",
            "Successfully installed tesseract-0.1.3\n"
          ]
        }
      ]
    },
    {
      "cell_type": "code",
      "source": [
        "! pip install Pillow\n",
        "! pip install pytesseract"
      ],
      "metadata": {
        "colab": {
          "base_uri": "https://localhost:8080/"
        },
        "id": "8TBkcZfLQ4Iw",
        "outputId": "c9ea2d79-05bd-46a8-a157-e79d248ea5c3"
      },
      "execution_count": null,
      "outputs": [
        {
          "output_type": "stream",
          "name": "stdout",
          "text": [
            "Requirement already satisfied: Pillow in /usr/local/lib/python3.10/dist-packages (9.4.0)\n",
            "Collecting pytesseract\n",
            "  Downloading pytesseract-0.3.10-py3-none-any.whl.metadata (11 kB)\n",
            "Requirement already satisfied: packaging>=21.3 in /usr/local/lib/python3.10/dist-packages (from pytesseract) (24.1)\n",
            "Requirement already satisfied: Pillow>=8.0.0 in /usr/local/lib/python3.10/dist-packages (from pytesseract) (9.4.0)\n",
            "Downloading pytesseract-0.3.10-py3-none-any.whl (14 kB)\n",
            "Installing collected packages: pytesseract\n",
            "Successfully installed pytesseract-0.3.10\n"
          ]
        }
      ]
    },
    {
      "cell_type": "code",
      "source": [
        "import pytesseract as pyt\n",
        "from PIL import ImageEnhance, ImageFilter, Image"
      ],
      "metadata": {
        "id": "bNoup7CGRAzp"
      },
      "execution_count": null,
      "outputs": []
    },
    {
      "cell_type": "code",
      "source": [
        "pyt.pytesseract.tesseract_cmd = ( r'/usr/bin/tesseract' )"
      ],
      "metadata": {
        "id": "n1tX6zPlRMTa"
      },
      "execution_count": null,
      "outputs": []
    },
    {
      "cell_type": "code",
      "source": [
        "import cv2\n",
        "cv2.__version__\n"
      ],
      "metadata": {
        "colab": {
          "base_uri": "https://localhost:8080/",
          "height": 36
        },
        "id": "v0fSWhWNRMeZ",
        "outputId": "5c3a8879-6050-4461-d3af-2e243a28b084"
      },
      "execution_count": null,
      "outputs": [
        {
          "output_type": "execute_result",
          "data": {
            "text/plain": [
              "'4.10.0'"
            ],
            "application/vnd.google.colaboratory.intrinsic+json": {
              "type": "string"
            }
          },
          "metadata": {},
          "execution_count": 11
        }
      ]
    },
    {
      "cell_type": "code",
      "source": [
        "img=cv2.imread(\"file.png\")\n",
        "text=pyt.image_to_string(img)"
      ],
      "metadata": {
        "id": "8aAfzYTqRMgw"
      },
      "execution_count": null,
      "outputs": []
    },
    {
      "cell_type": "code",
      "source": [
        "print(text)"
      ],
      "metadata": {
        "colab": {
          "base_uri": "https://localhost:8080/"
        },
        "id": "63oAfI-BRMi9",
        "outputId": "0e043c69-ed71-4e61-a59e-e4ca62c9d75f"
      },
      "execution_count": null,
      "outputs": [
        {
          "output_type": "stream",
          "name": "stdout",
          "text": [
            "x —\n",
            "\n",
            "Free asa bird\n",
            "\n",
            " \n",
            "\f\n"
          ]
        }
      ]
    },
    {
      "cell_type": "code",
      "source": [
        "import pandas as pd\n",
        "import spacy\n",
        "import requests\n",
        "from bs4 import BeautifulSoup\n",
        "nlp = spacy.load(\"en_core_web_sm\")\n",
        "pd.set_option(\"display.max_rows\", 200)"
      ],
      "metadata": {
        "id": "5zoCBcEPRMmX"
      },
      "execution_count": null,
      "outputs": []
    },
    {
      "cell_type": "code",
      "source": [
        "\n",
        "content = \"김영훈 is part of the korean parliment and he is a good politician but so is Jang Wooyoung\"\n",
        "\n",
        "doc = nlp(content)\n",
        "\n",
        "for ent in doc.ents:\n",
        "    print(ent.text, ent.start_char, ent.end_char, ent.label_)"
      ],
      "metadata": {
        "colab": {
          "base_uri": "https://localhost:8080/"
        },
        "id": "UjTgxUsEREGh",
        "outputId": "eee127b9-f7c5-4da0-9a0e-0f67b38e2ecc"
      },
      "execution_count": null,
      "outputs": [
        {
          "output_type": "stream",
          "name": "stdout",
          "text": [
            "korean 19 25 NORP\n",
            "Jang Wooyoung 74 87 PERSON\n"
          ]
        }
      ]
    },
    {
      "cell_type": "code",
      "source": [
        "import re\n",
        "\n",
        "#find email and mobile number from text\n",
        "text ='My Name ABC, My Mobile Number is 3421117301. My bd official Number is +1(111)333–1101, My foreign phone number is +1(111)333–9999.my yahoo mail is support_1234@gmail.com'\n",
        "print( 'text : '+ text)\n",
        "print('\\n')\n",
        "\n",
        "# find email\n",
        "pattern = '[A-Za-z0–9_.]+\\@[A-Za-z]+.[A-Za-z.]+'\n",
        "print( 'Email : '+ ' '.join(re.findall(pattern, text)))\n",
        "\n",
        "#find mobile number\n",
        "pattern = '\\d{10}|\\+\\d{1,2}\\(\\d{3}\\)\\d{3}-\\d{4}'\n",
        "print( 'Mobile Number : '+ ' '.join(re.findall(pattern, text)))"
      ],
      "metadata": {
        "colab": {
          "base_uri": "https://localhost:8080/"
        },
        "id": "qJG7N4DASU2H",
        "outputId": "c74ce558-67ab-4f78-f088-13bf3ee8944a"
      },
      "execution_count": null,
      "outputs": [
        {
          "output_type": "stream",
          "name": "stdout",
          "text": [
            "text : My Name ABC, My Mobile Number is 3421117301. My bd official Number is +1(111)333–1101, My foreign phone number is +1(111)333–9999.my yahoo mail is support_1234@gmail.com\n",
            "\n",
            "\n",
            "Email : \n",
            "Mobile Number : 3421117301\n"
          ]
        }
      ]
    },
    {
      "cell_type": "code",
      "source": [
        "def enumerate_words(text):\n",
        "    words = text.split()\n",
        "    enumerated_words = [(i + 1, word) for i, word in enumerate(words)]\n",
        "    return enumerated_words\n",
        "\n",
        "# Example usage:\n",
        "input_text = \"Kim Min-jun is a software engineer.\"\n",
        "enumerated = enumerate_words(input_text)\n",
        "for index, word in enumerated:\n",
        "    print(f\"{index}: {word}\")"
      ],
      "metadata": {
        "colab": {
          "base_uri": "https://localhost:8080/"
        },
        "id": "aUGPkQpib1HO",
        "outputId": "35b67c27-ebe3-4965-8586-e59e4719b67f"
      },
      "execution_count": null,
      "outputs": [
        {
          "output_type": "stream",
          "name": "stdout",
          "text": [
            "1: Kim\n",
            "2: Min-jun\n",
            "3: is\n",
            "4: a\n",
            "5: software\n",
            "6: engineer.\n"
          ]
        }
      ]
    },
    {
      "cell_type": "code",
      "source": [
        "import re\n",
        "\n",
        "def enumerate_words(text):\n",
        "    words = text.split()\n",
        "    enumerated_dict = {i + 1: word for i, word in enumerate(words)}\n",
        "    return enumerated_dict\n",
        "\n",
        "def find_phone_numbers(enumerated_dict):\n",
        "    phone_number_index = []\n",
        "    phone_number_pattern = re.compile(r'\\b\\d{2,3}-\\d{3,4}-\\d{4}\\b')  # Adjust the regex pattern as needed\n",
        "\n",
        "    for key, value in enumerated_dict.items():\n",
        "        if phone_number_pattern.search(value):\n",
        "            phone_number_index.append(key)\n",
        "\n",
        "    return phone_number_index\n",
        "\n",
        "def find_emails(enumerated_dict):\n",
        "    email_index = []\n",
        "    email_pattern = re.compile(r'\\b[A-Za-z0-9._%+-]+@[A-Za-z0-9.-]+\\.[A-Z|a-z]{2,}\\b')\n",
        "\n",
        "    for key, value in enumerated_dict.items():\n",
        "        if email_pattern.search(value):\n",
        "            email_index.append(key)\n",
        "\n",
        "    return email_index\n",
        "\n",
        "def redacted(text, indices):\n",
        "    words = text.split()\n",
        "    for index in indices:\n",
        "        words[index - 1] = \"[REDACTED]\"\n",
        "    return ' '.join(words)\n",
        "\n",
        "# Example usage:\n",
        "input_text = \"Hello, my name is Kim Min-jun. You can reach me at my personal phone number 010-1234-5678 or at my office number 02-9876-5432. If you prefer to email me, my addresses are minjun.kim@example.com and work.minjun@example.co.kr. I look forward to hearing from you.\"\n",
        "enumerated = enumerate_words(input_text)\n",
        "phone_numbers = find_phone_numbers(enumerated)\n",
        "emails = find_emails(enumerated)\n",
        "redacted_text = redacted(input_text, phone_numbers + emails)\n",
        "print(redacted_text)\n"
      ],
      "metadata": {
        "colab": {
          "base_uri": "https://localhost:8080/"
        },
        "id": "mcV0ORmXb2ip",
        "outputId": "9693b354-e8c1-4d23-d2dc-b0066d65033b"
      },
      "execution_count": null,
      "outputs": [
        {
          "output_type": "stream",
          "name": "stdout",
          "text": [
            "Hello, my name is Kim Min-jun. You can reach me at my personal phone number [REDACTED] or at my office number [REDACTED] If you prefer to email me, my addresses are [REDACTED] and [REDACTED] I look forward to hearing from you.\n"
          ]
        }
      ]
    },
    {
      "cell_type": "code",
      "source": [],
      "metadata": {
        "id": "Fzcxbn95enJN"
      },
      "execution_count": null,
      "outputs": []
    }
  ]
}